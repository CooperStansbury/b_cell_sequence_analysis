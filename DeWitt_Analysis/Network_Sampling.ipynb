{
 "cells": [
  {
   "cell_type": "code",
   "execution_count": 1,
   "metadata": {},
   "outputs": [],
   "source": [
    "import pandas as pd\n",
    "import numpy as np\n",
    "import os\n",
    "from importlib import reload\n",
    "import multiprocessing as mp\n",
    "\n",
    "import matplotlib\n",
    "import matplotlib.pyplot  as plt\n",
    "import seaborn as sns\n",
    "\n",
    "# locals\n",
    "import loader as _load\n",
    "import network_funcs as _network"
   ]
  },
  {
   "cell_type": "code",
   "execution_count": 2,
   "metadata": {},
   "outputs": [],
   "source": [
    "ROOT_DIR = \"/nfs/turbo/umms-indikar/shared/projects/cstansbu_rotation/DeWitt_data/\""
   ]
  },
  {
   "cell_type": "code",
   "execution_count": 18,
   "metadata": {},
   "outputs": [
    {
     "name": "stdout",
     "output_type": "stream",
     "text": [
      "CPU times: user 2 µs, sys: 0 ns, total: 2 µs\n",
      "Wall time: 5.72 µs\n",
      "100\n"
     ]
    }
   ],
   "source": [
    "%time\n",
    "\n",
    "\"\"\"\n",
    "load a dataset into memory\n",
    "\"\"\"\n",
    "\n",
    "reload(_load)\n",
    "N_ROWS = None\n",
    "SAMPLE_SIZE = 100\n",
    "N_SAMPLES = 100\n",
    "\n",
    "# load         \n",
    "sampler = _load.SequenceSampler(ROOT_DIR)\n",
    "sampler.load_dir(\"D3-M\", n_rows=N_ROWS)\n",
    "\n",
    "# get samples\n",
    "sampler.get_samples(sample_size=SAMPLE_SIZE, n_samples=N_SAMPLES)\n",
    "print(len(sampler.samples))\n",
    "\n",
    "# build distance matrices \n",
    "sampler.samples_to_distance_matrices()"
   ]
  },
  {
   "cell_type": "code",
   "execution_count": 19,
   "metadata": {},
   "outputs": [
    {
     "data": {
      "text/html": [
       "<div>\n",
       "<style scoped>\n",
       "    .dataframe tbody tr th:only-of-type {\n",
       "        vertical-align: middle;\n",
       "    }\n",
       "\n",
       "    .dataframe tbody tr th {\n",
       "        vertical-align: top;\n",
       "    }\n",
       "\n",
       "    .dataframe thead th {\n",
       "        text-align: right;\n",
       "    }\n",
       "</style>\n",
       "<table border=\"1\" class=\"dataframe\">\n",
       "  <thead>\n",
       "    <tr style=\"text-align: right;\">\n",
       "      <th></th>\n",
       "      <th>Fiedler value</th>\n",
       "      <th>Von Neumann entropy</th>\n",
       "    </tr>\n",
       "  </thead>\n",
       "  <tbody>\n",
       "    <tr>\n",
       "      <th>0</th>\n",
       "      <td>0.841279</td>\n",
       "      <td>4.591935</td>\n",
       "    </tr>\n",
       "    <tr>\n",
       "      <th>1</th>\n",
       "      <td>0.844980</td>\n",
       "      <td>4.592082</td>\n",
       "    </tr>\n",
       "    <tr>\n",
       "      <th>2</th>\n",
       "      <td>0.835474</td>\n",
       "      <td>4.591938</td>\n",
       "    </tr>\n",
       "    <tr>\n",
       "      <th>3</th>\n",
       "      <td>0.821607</td>\n",
       "      <td>4.591503</td>\n",
       "    </tr>\n",
       "    <tr>\n",
       "      <th>4</th>\n",
       "      <td>0.803512</td>\n",
       "      <td>4.591807</td>\n",
       "    </tr>\n",
       "  </tbody>\n",
       "</table>\n",
       "</div>"
      ],
      "text/plain": [
       "   Fiedler value  Von Neumann entropy\n",
       "0       0.841279             4.591935\n",
       "1       0.844980             4.592082\n",
       "2       0.835474             4.591938\n",
       "3       0.821607             4.591503\n",
       "4       0.803512             4.591807"
      ]
     },
     "execution_count": 19,
     "metadata": {},
     "output_type": "execute_result"
    }
   ],
   "source": [
    "reload(_network)\n",
    "\n",
    "def matutil_wrapper(M):\n",
    "    \"\"\"make these operations parallelizable\"\"\"\n",
    "    mat = _network.MatUtil(M)\n",
    "    mat.to_adj(tolerance=np.mean)\n",
    "    F = mat.get_fiedler_number()\n",
    "    E = mat.get_von_Neumann_Entropy()    \n",
    "    return {'Fiedler value' : F,\n",
    "            'Von Neumann entropy': E}\n",
    "    \n",
    "# matutil_wrapper(sampler.matrices[0])\n",
    "    \n",
    "# MAKE PARALLEL!\n",
    "# compute connectivity and entropy\n",
    "pool = mp.Pool(36*4)\n",
    "new_rows = pool.map(matutil_wrapper, sampler.matrices)\n",
    "memory = pd.DataFrame(new_rows)\n",
    "memory.head()"
   ]
  },
  {
   "cell_type": "code",
   "execution_count": 20,
   "metadata": {},
   "outputs": [
    {
     "data": {
      "text/plain": [
       "Text(0.5, 1.0, 'memory')"
      ]
     },
     "execution_count": 20,
     "metadata": {},
     "output_type": "execute_result"
    },
    {
     "data": {
      "image/png": "[encoded data removed]",
      "text/plain": [
       "<Figure size 432x288 with 1 Axes>"
      ]
     },
     "metadata": {
      "needs_background": "light"
     },
     "output_type": "display_data"
    }
   ],
   "source": [
    "# plot results\n",
    "sns.scatterplot(data=memory,\n",
    "                x='Fiedler value',\n",
    "                y='Von Neumann entropy')\n",
    "\n",
    "plt.title(\"memory\")"
   ]
  },
  {
   "cell_type": "code",
   "execution_count": 21,
   "metadata": {},
   "outputs": [
    {
     "data": {
      "text/plain": [
       "<matplotlib.axes._subplots.AxesSubplot at 0x2b38fcb677f0>"
      ]
     },
     "execution_count": 21,
     "metadata": {},
     "output_type": "execute_result"
    },
    {
     "data": {
      "image/png": "[encoded data removed]",
      "text/plain": [
       "<Figure size 432x288 with 1 Axes>"
      ]
     },
     "metadata": {
      "needs_background": "light"
     },
     "output_type": "display_data"
    }
   ],
   "source": [
    "sns.kdeplot(sampler.matrices[0].flatten())"
   ]
  },
  {
   "cell_type": "code",
   "execution_count": 7,
   "metadata": {},
   "outputs": [
    {
     "ename": "SyntaxError",
     "evalue": "'break' outside loop (<ipython-input-7-6aaf1f276005>, line 1)",
     "output_type": "error",
     "traceback": [
      "\u001b[0;36m  File \u001b[0;32m\"<ipython-input-7-6aaf1f276005>\"\u001b[0;36m, line \u001b[0;32m1\u001b[0m\n\u001b[0;31m    break\u001b[0m\n\u001b[0m    ^\u001b[0m\n\u001b[0;31mSyntaxError\u001b[0m\u001b[0;31m:\u001b[0m 'break' outside loop\n"
     ]
    }
   ],
   "source": [
    "break"
   ]
  },
  {
   "cell_type": "code",
   "execution_count": null,
   "metadata": {},
   "outputs": [],
   "source": [
    "\"\"\"\n",
    "same donor; but naive sequences\n",
    "\"\"\"\n",
    "\n",
    "sampler = _load.SequenceSampler(ROOT_DIR)\n",
    "sampler.load_dir(\"D3-N\", n_rows=N_ROWS)\n",
    "sampler.get_samples(sample_size=SAMPLE_SIZE, n_samples=N_SAMPLES)\n",
    "sampler.samples_to_distance_matrices()\n",
    "pool = mp.Pool(36*4)\n",
    "new_rows = pool.map(matutil_wrapper, sampler.matrices)\n",
    "naive = pd.DataFrame(new_rows)"
   ]
  },
  {
   "cell_type": "code",
   "execution_count": null,
   "metadata": {},
   "outputs": [],
   "source": [
    "sns.scatterplot(data=naive,\n",
    "                x='Fiedler value',\n",
    "                y='Von Neumann entropy')\n",
    "\n",
    "plt.title(\"naive\")"
   ]
  },
  {
   "cell_type": "code",
   "execution_count": null,
   "metadata": {},
   "outputs": [],
   "source": []
  }
 ],
 "metadata": {
  "kernelspec": {
   "display_name": "Python 3",
   "language": "python",
   "name": "python3"
  },
  "language_info": {
   "codemirror_mode": {
    "name": "ipython",
    "version": 3
   },
   "file_extension": ".py",
   "mimetype": "text/x-python",
   "name": "python",
   "nbconvert_exporter": "python",
   "pygments_lexer": "ipython3",
   "version": "3.8.3"
  }
 },
 "nbformat": 4,
 "nbformat_minor": 4
}
